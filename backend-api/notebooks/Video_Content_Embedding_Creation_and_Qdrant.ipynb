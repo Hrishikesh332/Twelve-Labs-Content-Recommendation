{
  "nbformat": 4,
  "nbformat_minor": 0,
  "metadata": {
    "colab": {
      "provenance": []
    },
    "kernelspec": {
      "name": "python3",
      "display_name": "Python 3"
    },
    "language_info": {
      "name": "python"
    }
  },
  "cells": [
    {
      "cell_type": "markdown",
      "source": [
        "# **UGC Content Embedding Creation and Qdrant**\n",
        "\n",
        "This tutorial cookbook is for automating video content processing, embedding, and storage into the Qdrant vector database. This tutorial makes use of Qdrant for vector-based search, Twelve Labs for video embeddings, and AWS S3 for secure cloud storage.\n",
        "\n",
        "\n",
        "Operations -\n",
        "\n",
        "\n",
        "- Video Upload to AWS S3 – Uploads videos and generates public URLs.\n",
        "\n",
        "- Video Embeddings Generation – Uses Twelve Labs model (Marengo-retrieval-2.7) for creating embeddings.\n",
        "\n",
        "- Qdrant Integration – Stores video embeddings for efficient vector based retrieval.\n"
      ],
      "metadata": {
        "id": "avvnNqu-3dd3"
      }
    },
    {
      "cell_type": "markdown",
      "source": [
        "Installing the necessary modules"
      ],
      "metadata": {
        "id": "XtB1LGO83SNO"
      }
    },
    {
      "cell_type": "code",
      "execution_count": null,
      "metadata": {
        "id": "sUSIpoCRzxdc"
      },
      "outputs": [],
      "source": [
        "!pip install yt-dlp\n",
        "!pip install google-api-python-client"
      ]
    },
    {
      "cell_type": "code",
      "source": [
        "!pip install qdrant-client boto3"
      ],
      "metadata": {
        "id": "9BV1Ijk7z5Jj"
      },
      "execution_count": null,
      "outputs": []
    },
    {
      "cell_type": "code",
      "source": [
        "!pip install twelvelabs pytube"
      ],
      "metadata": {
        "id": "0n1ljJXaz6rS"
      },
      "execution_count": null,
      "outputs": []
    },
    {
      "cell_type": "markdown",
      "source": [
        "Importing the necessary library"
      ],
      "metadata": {
        "id": "ANBh1DSv2rDB"
      }
    },
    {
      "cell_type": "code",
      "source": [
        "import os\n",
        "import uuid\n",
        "import boto3\n",
        "from botocore.exceptions import ClientError\n",
        "import requests\n",
        "from IPython.display import display, HTML\n",
        "import shutil\n",
        "from google.colab import files\n",
        "import pandas as pd\n",
        "from twelvelabs import TwelveLabs\n",
        "from qdrant_client import QdrantClient, models\n",
        "from qdrant_client.models import PointStruct\n",
        "import glob\n",
        "\n",
        "download_path = \"downloads/disney_kids_shorts\"\n",
        "os.makedirs(download_path, exist_ok=True)"
      ],
      "metadata": {
        "id": "u_tKw6lQz8Is"
      },
      "execution_count": null,
      "outputs": []
    },
    {
      "cell_type": "markdown",
      "source": [
        "Setting up the API Keys and the client"
      ],
      "metadata": {
        "id": "y7Gl_F-n2u9k"
      }
    },
    {
      "cell_type": "code",
      "source": [
        "AWS_ACCESS_KEY = \"<Your AWS ACCESS API KEY>\"\n",
        "AWS_SECRET_KEY = \"<Your AWS SECRET API KEY>\"\n",
        "AWS_BUCKET_NAME = \"<Your AWS BUCKET NAME\"\n",
        "AWS_REGION = \"eu-north-1\"\n",
        "\n",
        "TWELVE_LABS_API_KEY = \"<Your Twelve Labs API KEY>\"\n",
        "QDRANT_HOST = \"<Your QDRANT CLOUD HOST DOMAIN>\"\n",
        "QDRANT_API_KEY = \"<Your QDRANT API KEY>\"\n",
        "\n",
        "s3_client = boto3.client(\n",
        "    's3',\n",
        "    aws_access_key_id=AWS_ACCESS_KEY,\n",
        "    aws_secret_access_key=AWS_SECRET_KEY,\n",
        "    region_name=AWS_REGION\n",
        ")\n",
        "\n",
        "twelvelabs_client = TwelveLabs(api_key=TWELVE_LABS_API_KEY)\n"
      ],
      "metadata": {
        "id": "M0hLxswTz-QM"
      },
      "execution_count": null,
      "outputs": []
    },
    {
      "cell_type": "markdown",
      "source": [
        "Setting up the Qdrant Client"
      ],
      "metadata": {
        "id": "srpu89l924fW"
      }
    },
    {
      "cell_type": "code",
      "source": [
        "qdrant_client = None\n",
        "\n",
        "if QDRANT_HOST and QDRANT_API_KEY:\n",
        "    QDRANT_HOST = QDRANT_HOST.split(':')[0] if ':' in QDRANT_HOST else QDRANT_HOST\n",
        "    qdrant_client = QdrantClient(\n",
        "        url=f\"https://{QDRANT_HOST}\",\n",
        "        api_key=QDRANT_API_KEY,\n",
        "        timeout=20,\n",
        "        prefer_grpc=False\n",
        "    )\n",
        "\n",
        "COLLECTION_NAME = \"content_collection\"\n",
        "VECTOR_SIZE = 1024"
      ],
      "metadata": {
        "id": "tzzLcBFz0ZvX"
      },
      "execution_count": null,
      "outputs": []
    },
    {
      "cell_type": "markdown",
      "source": [
        "Upload a video file to S3 and return its public URL, which will be provided in the metadata of the embedding to the Qdrant."
      ],
      "metadata": {
        "id": "RDbdBa9B082h"
      }
    },
    {
      "cell_type": "code",
      "source": [
        "def upload_to_s3(file_path, filename):\n",
        "\n",
        "    try:\n",
        "        # Upload the file\n",
        "        s3_client.upload_file(\n",
        "            file_path,\n",
        "            AWS_BUCKET_NAME,\n",
        "            f\"videos-embed/{filename}\",\n",
        "            ExtraArgs={\n",
        "                'ACL': 'public-read',\n",
        "                'ContentType': 'video/mp4'\n",
        "            }\n",
        "        )\n",
        "\n",
        "        # Generate the public URL\n",
        "        url = f\"https://{AWS_BUCKET_NAME}.s3.{AWS_REGION}.amazonaws.com/videos-embed/{filename}\"\n",
        "        print(f\"Uploaded to S3: {url}\")\n",
        "        return url\n",
        "\n",
        "      except ClientError as e:\n",
        "        print(f\"Error uploading to S3: {str(e)}\")\n",
        "        raise\n"
      ],
      "metadata": {
        "id": "HAjmOOBn0cX-"
      },
      "execution_count": null,
      "outputs": []
    },
    {
      "cell_type": "markdown",
      "source": [
        "# **Video Embedding Creation**\n",
        "\n",
        "Create whole video embedding using Twelve Labs"
      ],
      "metadata": {
        "id": "giMV2zVc1Hfu"
      }
    },
    {
      "cell_type": "code",
      "source": [
        "def create_video_embedding(video_path, max_retries=3, retry_delay=5):\n",
        "\n",
        "    if not twelvelabs_client:\n",
        "        raise ValueError(\"Twelve Labs API key not configured\")\n",
        "\n",
        "    retries = 0\n",
        "    while retries < max_retries:\n",
        "        try:\n",
        "            print(f\"Creating whole video embedding for {video_path}... (Attempt {retries+1}/{max_retries})\")\n",
        "\n",
        "            # Use video_embedding_scopes parameter set to [\"clip\", \"video\"] to get whole video embedding\n",
        "            task = twelvelabs_client.embed.task.create(\n",
        "                model_name=\"Marengo-retrieval-2.7\",\n",
        "                video_file=video_path,\n",
        "                video_embedding_scopes=[\"clip\",\"video\"]\n",
        "            )\n",
        "\n",
        "            print(f\"Created task: id={task.id}, status={task.status}\")\n",
        "            task.wait_for_done(sleep_interval=3)\n",
        "            task_result = twelvelabs_client.embed.task.retrieve(task.id)\n",
        "\n",
        "            if task_result.status != 'ready':\n",
        "                raise ValueError(f\"Task failed with status: {task_result.status}\")\n",
        "\n",
        "            return task_result\n",
        "\n",
        "        except Exception as e:\n",
        "            print(f\"Error creating embedding (attempt {retries+1}): {str(e)}\")\n",
        "            retries += 1\n",
        "            if retries < max_retries:\n",
        "                print(f\"Retrying in {retry_delay} seconds...\")\n",
        "                time.sleep(retry_delay)\n",
        "                retry_delay *= 2\n",
        "            else:\n",
        "                print(\"Max retries reached, giving up.\")\n",
        "                raise"
      ],
      "metadata": {
        "id": "Sioiwn-n0hSl"
      },
      "execution_count": null,
      "outputs": []
    },
    {
      "cell_type": "markdown",
      "source": [
        "# **Insert Embeddings into Qdrant**\n",
        "\n",
        "Store whole video embedding and the metadata in Qdrant."
      ],
      "metadata": {
        "id": "n-b7a4DM1Ppm"
      }
    },
    {
      "cell_type": "code",
      "source": [
        "def store_in_qdrant(task_result, video_id, s3_url, original_filename):\n",
        "\n",
        "    if not qdrant_client:\n",
        "        raise ValueError(\"Qdrant client not configured\")\n",
        "\n",
        "    try:\n",
        "        print(f\"Processing video embedding for {video_id}...\")\n",
        "\n",
        "        # the embedding will be in the segments with embedding_scope=\"video\"\n",
        "        if task_result.video_embedding and task_result.video_embedding.segments:\n",
        "            video_segments = [s for s in task_result.video_embedding.segments\n",
        "                             if hasattr(s, 'embedding_scope') and s.embedding_scope == 'video']\n",
        "\n",
        "            if video_segments:\n",
        "                print(f\"Found video-scope embedding\")\n",
        "                embedding_vector = video_segments[0].embeddings_float\n",
        "            else:\n",
        "                # If no video scope segment is found, use the first segment as fallback\n",
        "                print(f\"No video-scope embedding found, using first available segment\")\n",
        "                embedding_vector = task_result.video_embedding.segments[0].embeddings_float\n",
        "        else:\n",
        "            raise ValueError(\"No embeddings found in the response\")\n",
        "        point = PointStruct(\n",
        "            id=uuid.uuid4().int & ((1<<64)-1),\n",
        "            vector=embedding_vector,\n",
        "            payload={\n",
        "                'video_id': video_id,\n",
        "                'video_url': s3_url,\n",
        "                'is_url': True,\n",
        "                'original_filename': original_filename,\n",
        "                'confidence': 'high'\n",
        "            }\n",
        "        )\n",
        "\n",
        "        qdrant_client.upsert(collection_name=COLLECTION_NAME, points=[point])\n",
        "        print(f\"Stored whole video embedding in Qdrant\")\n",
        "        return 1\n",
        "    except Exception as e:\n",
        "        print(f\"Error storing in Qdrant: {str(e)}\")\n",
        "        raise"
      ],
      "metadata": {
        "id": "-4_bmUiW0lXT"
      },
      "execution_count": 1,
      "outputs": []
    },
    {
      "cell_type": "markdown",
      "source": [
        "Process all videos in the specified directory, Stepwise Calling the function."
      ],
      "metadata": {
        "id": "KCIsuyi71jYC"
      }
    },
    {
      "cell_type": "code",
      "source": [
        "def process_existing_videos(directory_path=download_path, limit=None, upload_only=False):\n",
        "\n",
        "    # Get all video files in the directory\n",
        "    all_files = os.listdir(directory_path)\n",
        "    video_files = [os.path.join(directory_path, f) for f in all_files if f.lower().endswith('.mp4')]\n",
        "\n",
        "    if not video_files:\n",
        "        raise ValueError(f\"No MP4 files found in {directory_path}\")\n",
        "\n",
        "    print(f\"Found {len(video_files)} videos in {directory_path}\")\n",
        "\n",
        "    if limit and isinstance(limit, int) and limit > 0:\n",
        "        video_files = video_files[:limit]\n",
        "        print(f\"Processing {limit} videos (limited)\")\n",
        "\n",
        "    results = []\n",
        "\n",
        "    for file_path in video_files:\n",
        "        try:\n",
        "            original_filename = os.path.basename(file_path)\n",
        "o\n",
        "            video_id = f\"{str(uuid.uuid4())}_{original_filename}\"\n",
        "\n",
        "            # Step 1 Upload to S3\n",
        "            s3_url = upload_to_s3(file_path, video_id)\n",
        "\n",
        "            # Save initial results\n",
        "            result = {\n",
        "                \"file_path\": file_path,\n",
        "                \"original_filename\": original_filename,\n",
        "                \"video_id\": video_id,\n",
        "                \"s3_url\": s3_url,\n",
        "                \"status\": \"success\"\n",
        "            }\n",
        "\n",
        "            if upload_only:\n",
        "                result[\"embedding_status\"] = \"skipped\"\n",
        "                result[\"qdrant_status\"] = \"skipped\"\n",
        "            else:\n",
        "                # Step 2 Create embedding\n",
        "                try:\n",
        "                    task_result = create_video_embedding(file_path)\n",
        "                    result[\"embedding_status\"] = \"success\"\n",
        "\n",
        "                    # Step 3 Store in Qdrant\n",
        "                    try:\n",
        "                        segments = store_in_qdrant(\n",
        "                            task_result,\n",
        "                            video_id,\n",
        "                            s3_url,\n",
        "                            original_filename\n",
        "                        )\n",
        "                        result[\"segments\"] = segments\n",
        "                        result[\"qdrant_status\"] = \"success\"\n",
        "                    except Exception as qdrant_error:\n",
        "                        result[\"qdrant_status\"] = \"failed\"\n",
        "                        result[\"qdrant_error\"] = str(qdrant_error)\n",
        "\n",
        "                except Exception as embedding_error:\n",
        "                    result[\"embedding_status\"] = \"failed\"\n",
        "                    result[\"embedding_error\"] = str(embedding_error)\n",
        "                    result[\"qdrant_status\"] = \"skipped\"\n",
        "\n",
        "            results.append(result)\n",
        "\n",
        "        except Exception as e:\n",
        "            results.append({\n",
        "                \"file_path\": file_path,\n",
        "                \"original_filename\": os.path.basename(file_path),\n",
        "                \"status\": \"failed\",\n",
        "                \"error\": str(e)\n",
        "            })\n",
        "\n",
        "    df = pd.DataFrame(results)\n",
        "    print(f\"\\nProcessed {len(results)} videos. Summary:\")\n",
        "    display(df)\n",
        "\n",
        "\n",
        "    results_path = os.path.join(directory_path, \"processing_results.csv\")\n",
        "    df.to_csv(results_path, index=False)\n",
        "    print(f\"Results saved to {results_path}\")\n",
        "\n",
        "    return df"
      ],
      "metadata": {
        "id": "nyvv9tZ30qaj"
      },
      "execution_count": null,
      "outputs": []
    },
    {
      "cell_type": "markdown",
      "source": [
        "Uncomment the next cell, to execute the function `process_existing_videos()` to see the downloading of videos, embedding creation and the inseration into the Qdrant."
      ],
      "metadata": {
        "id": "nCiCGdJa15ZT"
      }
    },
    {
      "cell_type": "code",
      "source": [
        "# process_existing_videos()"
      ],
      "metadata": {
        "id": "zgToS5GP0sWC"
      },
      "execution_count": null,
      "outputs": []
    }
  ]
}